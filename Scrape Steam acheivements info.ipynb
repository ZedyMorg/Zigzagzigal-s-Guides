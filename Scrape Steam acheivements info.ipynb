{
 "cells": [
  {
   "cell_type": "markdown",
   "id": "594d7a01",
   "metadata": {},
   "source": [
    "#Steam API key : XXXXXXXXXXXXXXXXXXXXXXXXXXXXXXXX\n",
    "(My) Steam ID : 76561198048235598\n",
    "\"Sid Meier's Civilization VI\" Appid = 289070"
   ]
  },
  {
   "cell_type": "markdown",
   "id": "0e14a050",
   "metadata": {},
   "source": [
    "PLAYER INFO :\n",
    "https://api.steampowered.com/ISteamUser/GetPlayerSummaries/v0002/?key=XXXXXXXXXXXXXXXXXXXXXXXXXXXXXXXX&steamids=76561198048235598\n"
   ]
  },
  {
   "cell_type": "markdown",
   "id": "c9b895f2",
   "metadata": {},
   "source": [
    "ACHIEVEMENTS INFO : \n",
    "https://api.steampowered.com/ISteamUserStats/GetPlayerAchievements/v0001/?appid=289070&key=XXXXXXXXXXXXXXXXXXXXXXXXXXXXXXXX&steamid=76561198048235598"
   ]
  },
  {
   "cell_type": "markdown",
   "id": "adf7a177",
   "metadata": {},
   "source": [
    "Metadata:\n",
    "https://api.steampowered.com/ISteamUserStats/GetSchemaForGame/v2/?key=XXXXXXXXXXXXXXXXXXXXXXXXXXXXXXXX&appid=289070"
   ]
  },
  {
   "cell_type": "code",
   "execution_count": 1,
   "id": "bb17e5c5",
   "metadata": {
    "scrolled": false
   },
   "outputs": [],
   "source": [
    "import requests\n",
    "import pandas as pd\n",
    "from datetime import datetime\n",
    "import numpy as np"
   ]
  },
  {
   "cell_type": "code",
   "execution_count": 2,
   "id": "4cce48b2",
   "metadata": {
    "scrolled": false
   },
   "outputs": [],
   "source": [
    "url_ach = 'https://api.steampowered.com/ISteamUserStats/GetSchemaForGame/v2/?key=XXXXXXXXXXXXXXXXXXXXXXXXXXXXXXXX&appid=289070'\n",
    "url_me = 'https://api.steampowered.com/ISteamUserStats/GetPlayerAchievements/v0001/?appid=289070&key=XXXXXXXXXXXXXXXXXXXXXXXXXXXXXXXX&steamid=76561198048235598'"
   ]
  },
  {
   "cell_type": "code",
   "execution_count": 3,
   "id": "b232e72a",
   "metadata": {
    "scrolled": false
   },
   "outputs": [],
   "source": [
    "achievement_info = requests.get(url_ach)\n",
    "achievement_info = achievement_info.json()\n",
    "general_achievements = achievement_info['game']['availableGameStats']['achievements']"
   ]
  },
  {
   "cell_type": "code",
   "execution_count": 4,
   "id": "22b95609",
   "metadata": {
    "scrolled": false
   },
   "outputs": [],
   "source": [
    "df_general = pd.DataFrame(columns = ['game_name', 'name', 'description'])\n",
    "data = []\n",
    "\n",
    "for i in range (len(general_achievements)):\n",
    "    data.append([general_achievements[i]['name'], general_achievements[i]['displayName'],\n",
    "                 general_achievements[i]['description']])\n",
    "\n",
    "    \n",
    "for j in range(len(data)):\n",
    "    df_general.loc[len(df_general)] = data[j]"
   ]
  },
  {
   "cell_type": "code",
   "execution_count": 5,
   "id": "611b34c7",
   "metadata": {
    "scrolled": false
   },
   "outputs": [],
   "source": [
    "player_info = requests.get(url_me)\n",
    "player_info = player_info.json()\n",
    "player_info = player_info['playerstats']['achievements']"
   ]
  },
  {
   "cell_type": "code",
   "execution_count": 6,
   "id": "7ffeed9b",
   "metadata": {
    "scrolled": false
   },
   "outputs": [],
   "source": [
    "df_player = pd.DataFrame(columns = ['game_name', 'achieved'])\n",
    "data = []\n",
    "\n",
    "\n",
    "for k in range (len(player_info)):\n",
    "    data.append([player_info[k]['apiname'], player_info[k]['achieved']])\n",
    "\n",
    "    \n",
    "for l in range(len(data)):\n",
    "    df_player.loc[len(df_player)] = data[l]"
   ]
  },
  {
   "cell_type": "code",
   "execution_count": 7,
   "id": "4df0fbc8",
   "metadata": {
    "scrolled": false
   },
   "outputs": [],
   "source": [
    "df_merged = pd.merge(df_general, df_player, on ='game_name', how= 'outer')"
   ]
  },
  {
   "cell_type": "code",
   "execution_count": 8,
   "id": "c238484f",
   "metadata": {
    "scrolled": false
   },
   "outputs": [],
   "source": [
    "for i in range(len(df_merged)):\n",
    "    if df_merged.loc[i, 'achieved'] == 1:\n",
    "        df_merged.loc[i, 'achieved'] = True\n",
    "    else:\n",
    "        df_merged.loc[i, 'achieved'] = False\n",
    "        \n",
    "df_merged = df_merged.drop(columns = ['game_name'])"
   ]
  },
  {
   "cell_type": "code",
   "execution_count": 9,
   "id": "d96d2060",
   "metadata": {
    "scrolled": false
   },
   "outputs": [],
   "source": [
    "leader_win = df_merged[(df_merged['description'].str.contains('Win a game as')) | (df_merged['description'].str\\\n",
    "                                                                                   .contains('Win a regular game as'))]\n",
    "\n",
    "leader_win.reset_index(drop = True, inplace = True)"
   ]
  },
  {
   "cell_type": "code",
   "execution_count": 10,
   "id": "b55ae06c",
   "metadata": {
    "scrolled": false
   },
   "outputs": [],
   "source": [
    "leaders_temp = []\n",
    "for i in range (len(leader_win)):\n",
    "    leaders_temp.append(leader_win['description'][i])\n",
    "    \n",
    "leaders = []\n",
    "\n",
    "for i in range(len(leaders_temp)):\n",
    "    \n",
    "    if 'Win a regular game as' in leaders_temp[i]:\n",
    "        leaders.append(leaders_temp[i].split('Win a regular game as ')[1])\n",
    "    else:\n",
    "        leaders.append(leaders_temp[i].split('Win a game as ')[1])\n",
    "\n",
    "for i in range(len(leaders)):\n",
    "    leaders[i] = leaders[i].strip('.')\n",
    "    \n",
    "\n",
    "\n",
    "leader_win.insert(0, 'Leader', leaders)"
   ]
  },
  {
   "cell_type": "code",
   "execution_count": 11,
   "id": "3e454008",
   "metadata": {
    "scrolled": false
   },
   "outputs": [],
   "source": [
    "guides = pd.read_csv('guides.csv')"
   ]
  },
  {
   "cell_type": "code",
   "execution_count": 12,
   "id": "2382d320",
   "metadata": {
    "scrolled": false
   },
   "outputs": [],
   "source": [
    "leaders_guide = []\n",
    "for i in range(len(guides)):\n",
    "    leaders_guide.append(guides['Leader'][i])"
   ]
  },
  {
   "cell_type": "code",
   "execution_count": 13,
   "id": "07d4245e",
   "metadata": {},
   "outputs": [],
   "source": [
    "#Managing the differences in name from Steam documentation and the guides\n",
    "\n",
    "leader_title = {'Peter' : 'Peter the Great', 'Wilhelmina' : 'Queen Wilhelmina', 'Seondeok' : 'Queen Seondeok'}\n",
    "\n",
    "for key, values in leader_title.items():\n",
    "    filter_condition = (guides['Leader'].str.contains(key))\n",
    "    guides.loc[filter_condition, 'Leader'] = values\n",
    "    "
   ]
  },
  {
   "cell_type": "code",
   "execution_count": 14,
   "id": "12f02efd",
   "metadata": {
    "scrolled": false
   },
   "outputs": [],
   "source": [
    "ach_guide = pd.merge(guides, leader_win[['Leader', 'achieved']], on = 'Leader', how = 'outer')"
   ]
  },
  {
   "cell_type": "code",
   "execution_count": 15,
   "id": "b7f5502c",
   "metadata": {},
   "outputs": [],
   "source": [
    "columns_to_modify = ['Culture', 'Diplomacy', 'Domination', 'Religion', 'Science']\n",
    "\n",
    "\n",
    "for column in columns_to_modify:\n",
    "    ach_guide[column] = ach_guide[column].apply(lambda x: int(x) if pd.notna(x) else x)"
   ]
  },
  {
   "cell_type": "code",
   "execution_count": 16,
   "id": "fa23e8aa",
   "metadata": {},
   "outputs": [],
   "source": [
    "#Managing the multiple instances of the same leader with different names in guides and in steam documentation\n",
    "\n",
    "doppelganger = ['Catherine', 'Suleiman', 'Saladin', 'Cleopatra', 'Qin', 'Eleanor', 'Theodore']\n",
    "\n",
    "for i in doppelganger:\n",
    "\n",
    "    row_to_copy = list(ach_guide[(ach_guide['Leader'].str.contains(i)) & (ach_guide['achieved'].notna())].index)[0]\n",
    "    rows_to_replace = list(ach_guide[ach_guide['Leader'].str.contains(i)].index)\n",
    "    \n",
    "    if i == 'Theodore':\n",
    "        rows_to_replace = list(ach_guide[ach_guide['Leader'].str.contains('Teddy')].index)\n",
    "        \n",
    "    \n",
    "    if row_to_copy in rows_to_replace:\n",
    "        rows_to_replace.remove(row_to_copy)\n",
    "\n",
    "\n",
    "    for row in rows_to_replace:\n",
    "        ach_guide.loc[row, 'achieved'] = ach_guide.loc[row_to_copy, 'achieved']\n",
    "    \n",
    "    if pd.isna(ach_guide.loc[row_to_copy, 'Link']):\n",
    "        ach_guide.drop(row_to_copy, inplace=True)"
   ]
  },
  {
   "cell_type": "code",
   "execution_count": 17,
   "id": "3dc12f03",
   "metadata": {},
   "outputs": [],
   "source": [
    "#ach_guide.to_csv('guide_with_achievements.csv')"
   ]
  },
  {
   "cell_type": "code",
   "execution_count": null,
   "id": "57ba3878",
   "metadata": {},
   "outputs": [],
   "source": []
  }
 ],
 "metadata": {
  "kernelspec": {
   "display_name": "Python 3 (ipykernel)",
   "language": "python",
   "name": "python3"
  },
  "language_info": {
   "codemirror_mode": {
    "name": "ipython",
    "version": 3
   },
   "file_extension": ".py",
   "mimetype": "text/x-python",
   "name": "python",
   "nbconvert_exporter": "python",
   "pygments_lexer": "ipython3",
   "version": "3.9.12"
  }
 },
 "nbformat": 4,
 "nbformat_minor": 5
}
